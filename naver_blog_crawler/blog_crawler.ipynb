{
 "cells": [
  {
   "cell_type": "code",
   "execution_count": 1,
   "metadata": {},
   "outputs": [],
   "source": [
    "!pip install -r requirements.txt"
   ]
  },
  {
   "cell_type": "code",
   "execution_count": null,
   "metadata": {},
   "outputs": [],
   "source": [
    "from NB_module import *"
   ]
  },
  {
   "cell_type": "code",
   "execution_count": null,
   "metadata": {},
   "outputs": [],
   "source": [
    "if __name__==\"__main__\":\n",
    "    UA = UA_crawler() # User_agent 수집\n",
    "    Crawler1 = NaverBlogCrawler(name = \"cw1\",                           \n",
    "                                search_word = \"검색할 단어\",\n",
    "                                start_date = \"20200101\",\n",
    "                                end_date = \"20200201\",\n",
    "                                user_agent = UA,\n",
    "                                save=True,\n",
    "                                headless = True,\n",
    "                                sleepDelay=1\n",
    "                                )\n",
    "    Crawler1.start()\n",
    "    Crawler1.join()\n",
    "    '''\n",
    "    name = csv로 저장할 경우 file이름\n",
    "    search_word = 검색할 단어\n",
    "    start_date = 검색 시작 일\n",
    "    end_date = 검색 마지막 일\n",
    "    user_agent = user_agent\n",
    "    save = 수집한 자료를 csv로 저장할것인지에 대한 \n",
    "    headless = 크롬을 출력할것인지 여부 (True일 경우 출력하지 않은 상태에서 크롤링 진행)\n",
    "    sleepDelay = sleep time\n",
    "    '''\n",
    "\n",
    "    df = Crawler1.get_df()\n",
    "    prep_df = analysis_nouns(df, \"꿀\") # 꿀이 들어간 단어 상위 20개 barplot 출력\n",
    "    prep_df"
   ]
  },
  {
   "cell_type": "code",
   "execution_count": null,
   "metadata": {},
   "outputs": [],
   "source": []
  }
 ],
 "metadata": {
  "kernelspec": {
   "display_name": "Python 3",
   "language": "python",
   "name": "python3"
  },
  "language_info": {
   "codemirror_mode": {
    "name": "ipython",
    "version": 3
   },
   "file_extension": ".py",
   "mimetype": "text/x-python",
   "name": "python",
   "nbconvert_exporter": "python",
   "pygments_lexer": "ipython3",
   "version": "3.11.5"
  }
 },
 "nbformat": 4,
 "nbformat_minor": 2
}
