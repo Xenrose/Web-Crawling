{
 "cells": [
  {
   "cell_type": "code",
   "execution_count": null,
   "metadata": {},
   "outputs": [],
   "source": [
    "# 크롬 드라이버 설치\n",
    "import chromedriver_autoinstaller\n",
    "\n",
    "\n",
    "# 셀레니움\n",
    "from selenium import webdriver\n",
    "from selenium.webdriver.common.by import By\n",
    "from selenium.webdriver.chrome.service import Service\n",
    "\n",
    "\n",
    "# bs4\n",
    "from bs4 import BeautifulSoup\n",
    "\n",
    "\n",
    "# ETC\n",
    "from time import sleep\n",
    "import os\n",
    "from datetime import datetime\n",
    "import openpyxl\n",
    "from tqdm import tqdm"
   ]
  },
  {
   "cell_type": "markdown",
   "metadata": {},
   "source": [
    "# 목차\n",
    "\n",
    "1. chrome_driver_setting\n",
    "2. excel_control\n",
    "3. crawler"
   ]
  },
  {
   "cell_type": "code",
   "execution_count": null,
   "metadata": {},
   "outputs": [],
   "source": [
    "# User Agent 자동으로 가져오기  << 해당 크롤러를 요청한 고객께서 python을 사용할줄 모르기 때문에 간단한 작업임에도 자동화를 시켰습니다.\n",
    "def UA_crawler():\n",
    "    service = Service(executable_path=chromedriver_autoinstaller.install(path = os.getcwd())) # 크롬 드라이버 설치\n",
    "\n",
    "    options = webdriver.ChromeOptions()\n",
    "    options.add_argument('--no-sandbox') # 샌박끔        \n",
    "    options.add_argument('--disable-dev-shm-usage') # /dev/shm 비활\n",
    "    options.add_argument('headless') # 헤드리스\n",
    "    options.add_argument('--blink-settings=imagesEnabled=false') # 이미지 출력 안함\n",
    "    options.add_argument('--mute-audio') # 음소거\n",
    "    options.add_argument('disable-gpu') # gpu 사용 해제\n",
    "\n",
    "\n",
    "\n",
    "    browser = webdriver.Chrome(service=service, options=options)\n",
    "    browser.get('https://www.whatismybrowser.com/detect/what-is-my-user-agent/') \n",
    "    browser.implicitly_wait(10)\n",
    "    temp = BeautifulSoup(browser.page_source, 'html.parser')\n",
    "    browser.close()\n",
    "    UA = temp.find('div', attrs={'id' : 'detected_value'}).get_text()\n",
    "    return UA"
   ]
  },
  {
   "cell_type": "code",
   "execution_count": null,
   "metadata": {},
   "outputs": [],
   "source": [
    "# crawler 함수\n",
    "def phonetic_alphabet(browser, word):\n",
    "    browser.get(f'https://dic.daum.net/search.do?q={word}&dic=eng')\n",
    "    browser.implicitly_wait(2)\n",
    "    sleep(1)\n",
    "    try:\n",
    "        phonetic_alphabet = browser.find_element(By.CLASS_NAME, 'txt_pronounce').text\n",
    "    except:\n",
    "        phonetic_alphabet = f'dic.daum.net/search.do?q={word}&dic=eng'\n",
    "    return phonetic_alphabet"
   ]
  },
  {
   "cell_type": "code",
   "execution_count": null,
   "metadata": {},
   "outputs": [],
   "source": [
    "options = webdriver.ChromeOptions()\n",
    "options.add_argument('--no-sandbox') # 샌박끔        \n",
    "options.add_argument('--disable-dev-shm-usage') # /dev/shm 비활\n",
    "options.add_argument('headless') # 헤드리스\n",
    "options.add_argument('--blink-settings=imagesEnabled=false') # 이미지 출력 안함\n",
    "options.add_argument('--mute-audio') # 음소거\n",
    "options.add_argument('disable-gpu') # gpu 사용 해제\n",
    "\n",
    "UA = UA_crawler()\n",
    "options.add_argument(f'--user-agent={UA}')\n",
    "service = Service(executable_path=chromedriver_autoinstaller.install(path = os.getcwd())) # 크롬 드라이버 설치\n",
    "\n",
    "try:\n",
    "    browser = webdriver.Chrome(service=service, options=options)\n",
    "    print(\"service\")\n",
    "except:\n",
    "    browser = webdriver.Chrome(options=options)\n",
    "    print(\"None\")"
   ]
  },
  {
   "cell_type": "code",
   "execution_count": null,
   "metadata": {},
   "outputs": [],
   "source": [
    "# Target Excel File\n",
    "excel_file = 'voca.xlsx'\n",
    "workbook = openpyxl.load_workbook(excel_file)"
   ]
  },
  {
   "cell_type": "code",
   "execution_count": null,
   "metadata": {},
   "outputs": [],
   "source": [
    "######################################\n",
    "############  크롤링 파트  ############\n",
    "######################################\n",
    "\n",
    "# 엑셀 내 시트 파일 마다 영어 단어가 적혀 있기에 모든 시트를 순회하며 영어 단어를 크롤링\n",
    "for sheet in tqdm(workbook.sheetnames, desc=\"complete\", total=len(workbook.sheetnames)):\n",
    "    sh = workbook[sheet]\n",
    "    # print(\"sheet이름: \",sheet) \n",
    "    for idx in range(2, sh.max_row + 1):\n",
    "        if sh['E' + str(idx)].value is None and sh['E' + str(idx+1)].value is None: break\n",
    "\n",
    "        sh['F' + str(idx)] = phonetic_alphabet(browser=browser, word=sh['E' + str(idx)].value)\n",
    "    \n",
    "    workbook.save(\"new_voca.xlsx\") # 자동으로 저장\n",
    "\n",
    "workbook.close()"
   ]
  },
  {
   "cell_type": "code",
   "execution_count": null,
   "metadata": {},
   "outputs": [],
   "source": []
  }
 ],
 "metadata": {
  "kernelspec": {
   "display_name": "Python 3",
   "language": "python",
   "name": "python3"
  },
  "language_info": {
   "codemirror_mode": {
    "name": "ipython",
    "version": 3
   },
   "file_extension": ".py",
   "mimetype": "text/x-python",
   "name": "python",
   "nbconvert_exporter": "python",
   "pygments_lexer": "ipython3",
   "version": "3.11.5"
  }
 },
 "nbformat": 4,
 "nbformat_minor": 2
}
