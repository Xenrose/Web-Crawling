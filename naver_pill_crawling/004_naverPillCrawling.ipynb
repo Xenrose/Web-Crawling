{
 "cells": [
  {
   "cell_type": "code",
   "execution_count": 1,
   "metadata": {},
   "outputs": [],
   "source": [
    "from selenium import webdriver\n",
    "from selenium.webdriver.chrome.service import Service\n",
    "from selenium.webdriver.common.by import By\n",
    "from webdriver_manager.chrome import ChromeDriverManager\n",
    "from bs4 import BeautifulSoup\n",
    "import time\n",
    "import pandas as pd\n",
    "import requests"
   ]
  },
  {
   "cell_type": "code",
   "execution_count": 2,
   "metadata": {},
   "outputs": [],
   "source": [
    "import random\n",
    "from datetime import datetime\n",
    "\n",
    "start_time = datetime.now()"
   ]
  },
  {
   "cell_type": "code",
   "execution_count": 3,
   "metadata": {},
   "outputs": [],
   "source": [
    "def frist_name(browser, num):\n",
    "    try:\n",
    "        name = browser.find_element(By.XPATH, f'//*[@id=\"content\"]/div[3]/ul/li[{num}]/div/div[1]/strong/a[1]/strong').text\n",
    "    except:\n",
    "        name = 'Nan'\n",
    "\n",
    "    return name\n",
    "\n",
    "\n",
    "def frist_rating(browser, num):\n",
    "    try:\n",
    "        rating = browser.find_element(By.CSS_SELECTOR, f'#content > div.list_wrap > ul > li:nth-child({num}) > div.info_area > div.related.v2 > div > span:nth-child(2) > div > a > span.u_likeit_text.num._count').text\n",
    "    except:\n",
    "        rating = browser.find_element(By.CSS_SELECTOR, f'#content > div.list_wrap > ul > li:nth-child({num}) > div.info_area > div.related.v2 > div > span:nth-child(2) > div > a > span.u_likeit_text._count').text     \n",
    "\n",
    "    return rating\n",
    "\n",
    "\n",
    "def frist_url(browser, num):\n",
    "    try:\n",
    "        url = browser.find_element(By.XPATH, f'//*[@id=\"content\"]/div[3]/ul/li[{num}]/div/div[1]/strong/a[1]').get_attribute('href')\n",
    "    except:\n",
    "        url = 'Nan'\n",
    "    \n",
    "    return url\n",
    "\n",
    "\n",
    "def page_check(browser):\n",
    "    if browser.find_element(By.XPATH, '//*[@id=\"paginate\"]/span[2]/a').get_attribute('href')[-1] == '#':\n",
    "        return True"
   ]
  },
  {
   "cell_type": "code",
   "execution_count": 4,
   "metadata": {},
   "outputs": [],
   "source": [
    "r = open('pill_list.txt', 'r')\n",
    "pill_list = [i.rstrip() for i in r.readlines()]\n",
    "\n",
    "random.shuffle(pill_list)"
   ]
  },
  {
   "cell_type": "code",
   "execution_count": 5,
   "metadata": {},
   "outputs": [
    {
     "data": {
      "text/plain": [
       "2031"
      ]
     },
     "execution_count": 5,
     "metadata": {},
     "output_type": "execute_result"
    }
   ],
   "source": [
    "pill_list.__len__()"
   ]
  },
  {
   "cell_type": "code",
   "execution_count": 6,
   "metadata": {},
   "outputs": [],
   "source": [
    "df_url = pd.DataFrame(columns=['이름', 'rating', 'url'])\n",
    "df_url_idx = 0"
   ]
  },
  {
   "cell_type": "code",
   "execution_count": 7,
   "metadata": {},
   "outputs": [],
   "source": [
    "url = f'https://terms.naver.com/medicineSearch.naver?mode=nameSearch&query=' #{}&page=1"
   ]
  },
  {
   "cell_type": "code",
   "execution_count": 8,
   "metadata": {},
   "outputs": [],
   "source": [
    "browser = webdriver.Chrome(service=Service(ChromeDriverManager().install()))"
   ]
  },
  {
   "cell_type": "code",
   "execution_count": 9,
   "metadata": {},
   "outputs": [],
   "source": [
    "for pill in pill_list[:]:\n",
    "    page = 1\n",
    "    while True:\n",
    "        browser.get(url + pill + '&page=' + str(page))\n",
    "        time.sleep(1.5) # 인터넷 상태에 따라서 조정하여 사용. 너무 짧을 경우 rating이 수집되지 않는 경우가 있음.\n",
    "        # browser.implicitly_wait(1.5)\n",
    "        browser.execute_script(\"window.scrollTo(0, document.documentElement.scrollHeight);\")\n",
    "\n",
    "        for i in range(1, 10+1):\n",
    "            try:\n",
    "                pill_rating = frist_rating(browser, i) \n",
    "            except:\n",
    "                break\n",
    "\n",
    "            pill_name = frist_name(browser, i)\n",
    "            if pill_name in df_url['이름']: continue\n",
    "\n",
    "            pill_url = frist_url(browser, i)\n",
    "\n",
    "\n",
    "            df_url.loc[df_url_idx] = [pill_name, pill_rating, pill_url]\n",
    "            # print([pill_name, pill_rating, pill_url])\n",
    "            df_url_idx += 1\n",
    "            \n",
    "        page += 1\n",
    "\n",
    "        if page_check: break\n"
   ]
  },
  {
   "cell_type": "code",
   "execution_count": 23,
   "metadata": {},
   "outputs": [],
   "source": [
    "df_url['rating'] = df_url['rating'].apply(lambda x: 0 if x == '공감' else x)\n",
    "df_url.to_csv('url_df.csv', encoding='utf-8-sig', index=False)\n",
    "df_url['rating'] = df_url['rating'].astype(int)"
   ]
  },
  {
   "cell_type": "code",
   "execution_count": 24,
   "metadata": {},
   "outputs": [
    {
     "data": {
      "text/html": [
       "<div>\n",
       "<style scoped>\n",
       "    .dataframe tbody tr th:only-of-type {\n",
       "        vertical-align: middle;\n",
       "    }\n",
       "\n",
       "    .dataframe tbody tr th {\n",
       "        vertical-align: top;\n",
       "    }\n",
       "\n",
       "    .dataframe thead th {\n",
       "        text-align: right;\n",
       "    }\n",
       "</style>\n",
       "<table border=\"1\" class=\"dataframe\">\n",
       "  <thead>\n",
       "    <tr style=\"text-align: right;\">\n",
       "      <th></th>\n",
       "      <th>이름</th>\n",
       "      <th>rating</th>\n",
       "      <th>url</th>\n",
       "    </tr>\n",
       "  </thead>\n",
       "  <tbody>\n",
       "    <tr>\n",
       "      <th>0</th>\n",
       "      <td>뉴본정50단위(칼리디노게나제) [Newborn Tab. 50unit]</td>\n",
       "      <td>27</td>\n",
       "      <td>https://terms.naver.com/entry.naver?docId=2135...</td>\n",
       "    </tr>\n",
       "    <tr>\n",
       "      <th>1</th>\n",
       "      <td>크레인정50단위(칼리디노게나제) [Krein Tab.]</td>\n",
       "      <td>29</td>\n",
       "      <td>https://terms.naver.com/entry.naver?docId=2141...</td>\n",
       "    </tr>\n",
       "    <tr>\n",
       "      <th>2</th>\n",
       "      <td>카레인정50단위(칼리디노게나제) [Kalein Tab. 50IU]</td>\n",
       "      <td>14</td>\n",
       "      <td>https://terms.naver.com/entry.naver?docId=2164...</td>\n",
       "    </tr>\n",
       "    <tr>\n",
       "      <th>3</th>\n",
       "      <td>튜비스투정150/300mg [TUBES2 Tablet 150/300mg]</td>\n",
       "      <td>10</td>\n",
       "      <td>https://terms.naver.com/entry.naver?docId=2164...</td>\n",
       "    </tr>\n",
       "    <tr>\n",
       "      <th>4</th>\n",
       "      <td>튜비스정 [TUBES Tablet]</td>\n",
       "      <td>8</td>\n",
       "      <td>https://terms.naver.com/entry.naver?docId=2128...</td>\n",
       "    </tr>\n",
       "    <tr>\n",
       "      <th>...</th>\n",
       "      <td>...</td>\n",
       "      <td>...</td>\n",
       "      <td>...</td>\n",
       "    </tr>\n",
       "    <tr>\n",
       "      <th>562</th>\n",
       "      <td>콜락연질캡슐 [Collag soft cap.]</td>\n",
       "      <td>12</td>\n",
       "      <td>https://terms.naver.com/entry.naver?docId=2131...</td>\n",
       "    </tr>\n",
       "    <tr>\n",
       "      <th>563</th>\n",
       "      <td>젠빅연질캡슐 [Genbig Soft Cap.]</td>\n",
       "      <td>13</td>\n",
       "      <td>https://terms.naver.com/entry.naver?docId=2155...</td>\n",
       "    </tr>\n",
       "    <tr>\n",
       "      <th>564</th>\n",
       "      <td>쎄투연질캡슐 [Cettu Soft Capsule]</td>\n",
       "      <td>16</td>\n",
       "      <td>https://terms.naver.com/entry.naver?docId=2134...</td>\n",
       "    </tr>\n",
       "    <tr>\n",
       "      <th>565</th>\n",
       "      <td>레비아정(날트렉손염산염) [Revia Tab. (Naltrexone Hcl)]</td>\n",
       "      <td>13</td>\n",
       "      <td>https://terms.naver.com/entry.naver?docId=2141...</td>\n",
       "    </tr>\n",
       "    <tr>\n",
       "      <th>566</th>\n",
       "      <td>트락손정50mg(날트렉손염산염)(수출명:노텍손정(날트렉... [Traxone Tab...</td>\n",
       "      <td>8</td>\n",
       "      <td>https://terms.naver.com/entry.naver?docId=2158...</td>\n",
       "    </tr>\n",
       "  </tbody>\n",
       "</table>\n",
       "<p>567 rows × 3 columns</p>\n",
       "</div>"
      ],
      "text/plain": [
       "                                                    이름  rating  \\\n",
       "0               뉴본정50단위(칼리디노게나제) [Newborn Tab. 50unit]      27   \n",
       "1                       크레인정50단위(칼리디노게나제) [Krein Tab.]      29   \n",
       "2                 카레인정50단위(칼리디노게나제) [Kalein Tab. 50IU]      14   \n",
       "3             튜비스투정150/300mg [TUBES2 Tablet 150/300mg]      10   \n",
       "4                                  튜비스정 [TUBES Tablet]       8   \n",
       "..                                                 ...     ...   \n",
       "562                          콜락연질캡슐 [Collag soft cap.]      12   \n",
       "563                          젠빅연질캡슐 [Genbig Soft Cap.]      13   \n",
       "564                        쎄투연질캡슐 [Cettu Soft Capsule]      16   \n",
       "565        레비아정(날트렉손염산염) [Revia Tab. (Naltrexone Hcl)]      13   \n",
       "566  트락손정50mg(날트렉손염산염)(수출명:노텍손정(날트렉... [Traxone Tab...       8   \n",
       "\n",
       "                                                   url  \n",
       "0    https://terms.naver.com/entry.naver?docId=2135...  \n",
       "1    https://terms.naver.com/entry.naver?docId=2141...  \n",
       "2    https://terms.naver.com/entry.naver?docId=2164...  \n",
       "3    https://terms.naver.com/entry.naver?docId=2164...  \n",
       "4    https://terms.naver.com/entry.naver?docId=2128...  \n",
       "..                                                 ...  \n",
       "562  https://terms.naver.com/entry.naver?docId=2131...  \n",
       "563  https://terms.naver.com/entry.naver?docId=2155...  \n",
       "564  https://terms.naver.com/entry.naver?docId=2134...  \n",
       "565  https://terms.naver.com/entry.naver?docId=2141...  \n",
       "566  https://terms.naver.com/entry.naver?docId=2158...  \n",
       "\n",
       "[567 rows x 3 columns]"
      ]
     },
     "execution_count": 24,
     "metadata": {},
     "output_type": "execute_result"
    }
   ],
   "source": [
    "target_url = df_url[(df_url['rating']>=5)].reset_index(drop=True)\n",
    "target_url"
   ]
  },
  {
   "cell_type": "code",
   "execution_count": 25,
   "metadata": {},
   "outputs": [],
   "source": [
    "final_df = pd.DataFrame(columns=[\"이름\", \"성분정보\", \"효능효과\", \"용법용량\", \"저장방법\", \"사용기간\", \"사용상주의사항\", 'url'])\n",
    "final_df_idx = 0"
   ]
  },
  {
   "cell_type": "code",
   "execution_count": 26,
   "metadata": {},
   "outputs": [
    {
     "name": "stdout",
     "output_type": "stream",
     "text": [
      "https://terms.naver.com/entry.naver?docId=2128400&cid=51000&categoryId=51000\n",
      "https://terms.naver.com/entry.naver?docId=2128400&cid=51000&categoryId=51000\n"
     ]
    }
   ],
   "source": [
    "for i in range(len(target_url)):\n",
    "    res = requests.get(target_url.iloc[i,2])\n",
    "    res.raise_for_status()                \n",
    "    soup = BeautifulSoup(res.text, \"lxml\")\n",
    "    temp = soup.find_all('p', {'class': 'txt'})\n",
    "    temp = list(temp)\n",
    "\n",
    "    try:\n",
    "        final_df.loc[final_df_idx] = [target_url.iloc[i,0], \n",
    "                                    temp[0], \n",
    "                                    temp[1],\n",
    "                                    temp[2],\n",
    "                                    temp[3],\n",
    "                                    temp[4],\n",
    "                                    temp[5],\n",
    "                                    target_url.iloc[i,2]]\n",
    "        final_df_idx += 1\n",
    "    except:\n",
    "        final_df.loc[final_df_idx] = [target_url.iloc[i,0], \n",
    "                                    \"Nan\",\n",
    "                                    temp[0], \n",
    "                                    temp[1],\n",
    "                                    temp[2],\n",
    "                                    temp[3],\n",
    "                                    temp[4],\n",
    "                                    # temp[5],\n",
    "                                    target_url.iloc[i,2]]\n",
    "        final_df_idx += 1\n",
    "        print(target_url.iloc[i,2])"
   ]
  },
  {
   "cell_type": "code",
   "execution_count": null,
   "metadata": {},
   "outputs": [],
   "source": [
    "def pre_word(x):\n",
    "    return str(x).replace('<p class=\"txt\">',\"\").replace('<b>',\"\").replace('</b>',\"\").replace(\"</p>\",\"\").rstrip().replace(\"<br/>\",\"\\n\").replace(\"&gt;\",\">\").replace(\"&lt;\",\"<\")\n",
    "\n",
    "for c in final_df.columns.tolist():\n",
    "    final_df[c] = final_df[c].apply(lambda x: pre_word(x).lstrip().rstrip())"
   ]
  },
  {
   "cell_type": "code",
   "execution_count": null,
   "metadata": {},
   "outputs": [],
   "source": [
    "final_df.to_csv('final_df.csv', index=False, encoding='utf-8-sig')"
   ]
  },
  {
   "cell_type": "code",
   "execution_count": null,
   "metadata": {},
   "outputs": [
    {
     "name": "stdout",
     "output_type": "stream",
     "text": [
      "0:19:32.305673\n"
     ]
    }
   ],
   "source": [
    "end_time = datetime.now()\n",
    "\n",
    "print(end_time-start_time)"
   ]
  },
  {
   "cell_type": "code",
   "execution_count": 132,
   "metadata": {},
   "outputs": [],
   "source": [
    "# 표\n",
    "res = requests.get('https://terms.naver.com/entry.naver?docId=2130875&cid=51000&categoryId=51000')\n",
    "res.raise_for_status()                \n",
    "soup = BeautifulSoup(res.text, \"lxml\")\n",
    "temp = soup.find_all('p', {'class': 'txt'})\n",
    "temp = list(temp)"
   ]
  },
  {
   "cell_type": "code",
   "execution_count": null,
   "metadata": {},
   "outputs": [],
   "source": [
    "temp.find_a"
   ]
  },
  {
   "cell_type": "code",
   "execution_count": 133,
   "metadata": {},
   "outputs": [
    {
     "data": {
      "text/plain": [
       "[<p class=\"txt\"><b>이 약 1정 (260mg) 중</b><br/>다파글리플로진프로판디올수화물 12.3mg</p>,\n",
       " <p class=\"txt\">1. 제 2형 당뇨병: 이 약은 제 2형 당뇨병 환자의 혈당 조절을 향상시키기 위해 식사요법 및 운동요법의 보조제로 투여한다.<br/>- 단독요법<br/>- 병용요법<br/>혈당이 충분히 조절되지 않는 제2형 당뇨병 환자 중 심혈관계 질환이 확인되었거나 심혈관계 위험인자가 있는 환자에서 심혈관계 사건 발생에 대한 영향은 '사용상의 주의사항, 11. 전문가를 위한 정보 3) 임상시험 정보' 항을 참고한다.<br/>2. 만성 심부전 : 만성 심부전(NYHA class II-IV) 환자에서 심혈관 질환으로 인한 사망, 심부전으로 인한 입원 및 심부전으로 인한 긴급 병원 방문 위험성 감소<br/>이 약은 다른 심부전 표준요법과 병용하여 투여한다.<br/>3. 만성 신장병 : 만성 신장병 환자에서 추정 사구체 여과율 [estimated glomerular filtration rate (eGFR)]의 지속적인 감소, 말기 신장병에 도달, 심혈관 질환으로 인한 사망 및 신장 관련 사망 위험성 감소<br/>이 약은 다른 신장병 표준요법과 병용하여 투여한다.</p>,\n",
       " <p class=\"txt\">제2형 당뇨병<br/>단독 요법 및 추가 병용 요법<br/>이 약의 권장 용량은 단독 요법 및 인슐린 등 다른 혈당 강하제와의 추가 병용 요법에 대하여 1일 1회 10mg이다. 이 약을 인슐린 또는 설포닐우레아와 같은 인슐린 분비 촉진제와 병용하여 사용하는 경우, 저혈당의 위험을 줄이기 위해 더 낮은 용량의 인슐린 또는 인슐린 분비 촉진제를 고려할 수 있다.<br/>초기 병용요법<br/>이전 당뇨병 약물치료를 받은 경험이 없는 경우 메트포르민과 병용투여 시, 이 약의 초기 권장용량은 1일 1회 5mg 또는 1일 1회 10mg이다.<br/>만성 심부전 및 만성 신장병<br/>이 약의 권장용량은 1일 1회 10 mg이다.<br/>특수 집단<br/>신장애<br/>- eGFR 45 mL/min/1.73m<sup>2</sup> 미만 : 혈당조절 개선 목적으로 이 약을 투여하는 것은 권장되지 않는다.<br/>- eGFR 25 mL/min/1.73m<sup>2</sup> 미만 : 만성 심부전 및 만성 신장병 환자에게 이 약의 투여를 시작하는 것은 권장되지 않는다.<br/>- 투석 중인 환자 : 이 약을 투여하지 않는다.<br/>간장애<br/>경증 또는 중등증의 간장애 환자에 대한 용량 조절은 필요하지 않다. 중증의 간장애 환자에 대하여, 시작 용량으로 5 mg이 권장된다. 내약성이 양호한 경우, 이 용량은 10mg으로 증가시킬 수 있다.<br/>고령자 (≥ 65세)<br/>연령에 근거한 용량 조절은 권장되지 않는다.<br/>소아<br/>만 18세 미만의 소아에 대한 다파글리플로진의 유효성과 안전성은 확립되지 않았다. 관련 자료가 없다.<br/>투여방법<br/>이 약은 음식 섭취와 관계없이, 1일 1회 하루 중 언제라도 경구 투여할 수 있다. 정제는 통째로 삼켜야 한다.</p>,\n",
       " <p class=\"txt\">기밀용기, 실온(1~30℃) 보관</p>,\n",
       " <p class=\"txt\">제조일로부터 36 개월</p>,\n",
       " <p class=\"txt\"><b>1. 다음 환자에는 투여하지 말 것</b><br/>1) 이 약의 주성분 또는 첨가제에 대한 과민반응 병력이 있는 환자<br/>2) 제1형 당뇨병 또는 당뇨병성 케톤산증 환자<br/>3) 이 약은 유당 무수물을 함유한다. 갈락토오스 불내성(galactose intolerance), Lapp 유당 분해효소 결핍증(Lapp lactase deficiency) 또는 포도당-갈락토오스 흡수장애(glucose-galactose malabsorption) 등의 유전적인 문제가 있는 환자에게는 투여하면 안된다.<br/>4) 투석 중인 환자<br/><br/><b>2. 다음 환자에는 신중히 투여할 것</b><br/>1) 체액량 감소 및 신기능 장애가 있는 환자에서의 투여<br/>이 약은 증상성 저혈압이나 크레아티닌의 급격하고 일시적인 변화로 나타날 수 있는 혈관 내 혈량 저하를 유발할 수 있다. 외국의 시판후 조사에서 이 약을 포함한 SGLT-2 저해제를 투여한 환자에서 급성 신장손상이 보고되었으며, 일부는 입원과 투석을 필요로 하였다. 신기능 장애(eGFR 60mL/min/1.73m<sup>2</sup> 미만), 고령자, 루프계 이뇨제 등을 사용하고 있는 환자에서 혈량 저하 또는 저혈압 위험이 증가할 수 있다. 이러한 특징들을 가진 환자에 대해 이 약의 투여를 시작하기 전 체액량 상태 및 신장 기능에 대한 평가가 필요하며, 투여를 시작한 후 저혈압 증상 및 징후와 신기능에 대해 모니터링 한다.<br/>혈당 조절에 대한 이 약의 유효성은 신장 기능에 따라 다르다. 중등도의 신장애가 있는 환자에서 혈당 조절 유효성이 감소하며 eGFR 45mL/min/1.73m<sup>2</sup> 미만인 제2형 당뇨환자에서 혈당조절 목적만으로 이 약을 투여하는 것은 권장되지 않는다(용법‧용량 항 참조). 중등도의 신장애 환자 에서, 이 약을 투여한 피험자들은 위약을 투여한 피험자들에 비해 크레아티닌, 인, 부갑상샘 호르몬(PTH) 상승 및 저혈압의 이상반응을 나타내는 비율이 더 높았다.<br/>이 약은 eGFR 25mL/min/1.73m<sup>2</sup> 미만인 환자에게 투여를 시작한 경험이 제한적이다.<br/>eGFR 25mL/min/1.73m<sup>2</sup> 미만인 만성 심부전 환자 및 만성 신장병 환자에서 이 약의 투여를 시작하는 것은 권장되지 않는다(용법·용량 항 참조).<br/><br/><b>3. 이상반응</b><br/>1) 안전성 프로파일의 요약<br/>제2형 당뇨 환자에 대한 임상 연구에서 15,000명 이상의 환자가 다파글리플로진을 투여받았다.<br/>이 약 10mg을 투여한 2,360명 및 위약을 투여한 2,295명이 포함된 13건의 단기 (최장 24주간) 위약 대조 시험에 대한 사전 정의된 통합 분석을 통해 안전성 및 내약성의 평가가 수행된 바 있다.<br/>제2형 당뇨병 환자에서 다파글리플로진의 심혈관계 영향을 평가하기 위한 임상시험 (DECLARE; ‘11. 전문가를 위한 정보, 3) 임상시험 정보’항 참조)에서는 8,574명에게 다파글리플로진 10 mg, 8,569명에게 위약이 투여되었으며 노출 기간의 중앙값은 48개월이었다. 총 30,623인-년 (patient-years)의 다파글리플로진 노출이 있었다.<br/>임상 연구 전반에 걸쳐 가장 흔하게 보고된 이상반응은 생식기 감염이었다.<br/>좌심실 수축기능이 저하된 (LVEF≤40%) 만성 심부전 환자에서 다파글리플로진의 심혈관계 영향을 평가하기 위한 임상시험 (DAPA-HF; ‘11. 전문가를 위한 정보, 3) 임상시험 정보’항 참조)에서는 2,368명에게 다파글리플로진 10 mg, 2,368명에게 위약이 투여되었으며 노출 기간의 중앙값은 18개월이었다. 시험대상자 집단에는 제2형 당뇨병이 있거나, 당뇨병이 없는, eGFR 30 mL/min/1.73m<sup>2 </sup>이상의 환자들이 포함되었다.<br/>좌심실 박출률(LVEF)이 40%를 초과한 심부전 환자에서 다파글리플로진의 심혈관계 영향을 평가하기 위한 임상시험 (DELIVER; ‘11. 전문가를 위한 정보, 3) 임상시험 정보’항 참조)에서는 3,126명에게 다파글리플로진 10mg, 3,127명에게 위약이 투여되었으며 노출 기간의 중앙값은 27개월이었다. 시험대상자 집단에는 제2형 당뇨병이 있거나, 당뇨병이 없는, eGFR 25 mL/min/1.73m<sup>2</sup> 이상의 환자들이 포함되었다.<br/>만성신장병 환자에서 다파글리플로진의 신장 영향을 평가하기 위한 임상시험 (DAPA-CKD; ‘11. 전문가를 위한 정보, 3) 임상시험 정보’항 참조)에서는 2,149명에게 다파글리플로진 10 mg, 2,149명에게 위약이 투여되었으며 노출 기간의 중앙값은 27개월이었다. 시험 대상자 집단에는 제2형 당뇨병이 있거나 당뇨병이 없는, eGFR 25 mL/min/1.73m<sup>2</sup> 이상 75 mL/min/1.73m<sup>2</sup> 이하의 환자들이 포함되었다. eGFR이 25 mL/min/1.73m<sup>2</sup> 미만으로 감소되는 경우 투여가 지속되었다.<br/>다파글리플로진의 안전성 프로파일은 연구된 대상 효능·효과 전반에 걸쳐 일관되게 나타났다.  당뇨병성 케톤산증은 당뇨병 환자에서만 관찰되었다.<br/>2) 이상반응 목록<br/>위약 대조 임상 시험에서 아래의 이상반응들이 관찰되었다. 용량과 관련된 이상반응은 없었다. 아래에 기재된 이상반응은 빈도 및 기관계(SOC)에 따라 분류하였다. 발현 빈도는 다음과 같이 정의되었다: 매우 흔하게(≥ 1/10), 흔하게(≥ 1/100 ∼ &lt; 1/10), 흔하지 않게(≥ 1/1,000 ∼ &lt; 1/100), 드물게(≥ 1/10,000 ∼ &lt; 1/1,000), 매우 드물게(&lt; 1/10,000), 빈도불명(이용 가능한 자료를 통해 평가할 수 없음).<br/>표 1 위약 대조 시험에서의 이상반응<sup>a</sup><br/>\n",
       " </p>]"
      ]
     },
     "execution_count": 133,
     "metadata": {},
     "output_type": "execute_result"
    }
   ],
   "source": [
    "temp\n",
    "\n",
    "/html/body/div[1]/div[3]/div[1]/div[2]/div[2]/text()[1]\n",
    "/html/body/div[1]/div[3]/div[1]/div[2]/div[2]/text()[2]\n",
    "/html/body/div[1]/div[3]/div[1]/div[2]/div[2]/text()[139]"
   ]
  },
  {
   "cell_type": "code",
   "execution_count": null,
   "metadata": {},
   "outputs": [],
   "source": [
    "w = open('temp_str.txt', 'w', encoding='utf-8')\n",
    "w.write(t)\n",
    "w.close()"
   ]
  },
  {
   "cell_type": "code",
   "execution_count": 31,
   "metadata": {},
   "outputs": [],
   "source": [
    "box = soup.find_all('div', {'class': 'box_tbl'})\n",
    "box = list(box)\n"
   ]
  },
  {
   "cell_type": "code",
   "execution_count": 130,
   "metadata": {},
   "outputs": [],
   "source": [
    "temp = []\n",
    "for i in box:\n",
    "    temp.append(str(i))\n",
    "\n",
    "\n",
    "t = ''.join(temp)"
   ]
  },
  {
   "cell_type": "code",
   "execution_count": 125,
   "metadata": {},
   "outputs": [
    {
     "data": {
      "text/plain": [
       "'<div class=\"box_tbl\"><table border=\"1\" cellspacing=\"0\" class=\"tb_style2\">\\n<caption></caption>\\n<tbody>\\n<tr>\\n<td style=\"border-color:black; vertical-align:top; width:65.15pt\"><p>\\n</p><p style=\"margin-left:0cm; margin-right:0cm\">기관계</p>\\n</td>\\n<td style=\"border-color:black black black #000000; vertical-align:top; width:68pt\"><p>\\n</p><p style=\"margin-left:0cm; margin-right:0cm\">매우 흔하게</p>\\n</td>\\n<td style=\"border-color:black black black #000000; vertical-align:top; width:66.5pt\"><p>\\n</p><p style=\"margin-left:0cm; margin-right:0cm\">흔하게<sup>*</sup></p>\\n</td>\\n<td style=\"border-color:black black black #000000; vertical-align:top; width:65.95pt\"><p>\\n</p><p style=\"margin-left:0cm; margin-right:0cm\">흔하지 않게<sup>**</sup></p>\\n</td>\\n<td style=\"border-color:black black black #000000; vertical-align:top; width:63.55pt\"><p>\\n</p><p style=\"margin-left:0cm; margin-right:0cm\">드물게</p>\\n</td>\\n<td style=\"border-color:black black black #000000; vertical-align:top; width:61.65pt\"><p>\\n</p><p style=\"margin-left:0cm; margin-right:0cm\">매우 드물게</p>\\n</td>\\n</tr>\\n<tr>\\n<td style=\"border-color:#000000 black black; vertical-align:top; width:65.15pt\"><p>\\n</p><p style=\"margin-left:0cm; margin-right:0cm\">감염</p>\\n</td>\\n<td style=\"border-color:#000000 black black #000000; vertical-align:top; width:68pt\"><p>\\n</p><p style=\"margin-left:0cm; margin-right:0cm\">\\xa0</p>\\n</td>\\n<td style=\"border-color:#000000 black black #000000; vertical-align:top; width:66.5pt\"><p>\\n</p><p style=\"margin-left:0cm; margin-right:0cm\">외음부질염, 귀두염 및 관련 생식기 감염<sup>*,b,c</sup></p>\\n<p style=\"margin-left:0cm; margin-right:0cm\">요로 감염<sup>b</sup></p>\\n</td>\\n<td style=\"border-color:#000000 black black #000000; vertical-align:top; width:65.95pt\"><p>\\n</p><p style=\"margin-left:0cm; margin-right:0cm\">\\xa0진균감염<sup>**</sup></p>\\n</td>\\n<td style=\"border-color:#000000 black black #000000; vertical-align:top; width:63.55pt\"><p>\\n</p><p style=\"margin-left:0cm; margin-right:0cm\">\\xa0</p>\\n</td>\\n<td style=\"border-color:#000000 black black #000000; vertical-align:top; width:61.65pt\"><p>\\n</p><p style=\"margin-left:0cm; margin-right:0cm\">회음부 괴저(푸르니에 괴저)<sup>b</sup></p>\\n</td>\\n</tr>\\n<tr>\\n<td style=\"border-color:#000000 black black; vertical-align:top; width:65.15pt\"><p>\\n</p><p style=\"margin-left:0cm; margin-right:0cm\">대사 및 영양</p>\\n</td>\\n<td style=\"border-color:#000000 black black #000000; vertical-align:top; width:68pt\"><p>\\n</p><p style=\"margin-left:0cm; margin-right:0cm\">저혈당 (설포닐우레아 또는 인슐린과 함께 사용할 때)<sup>b</sup></p>\\n</td>\\n<td style=\"border-color:#000000 black black #000000; vertical-align:top; width:66.5pt\"><p>\\n</p><p style=\"margin-left:0cm; margin-right:0cm\">\\xa0</p>\\n</td>\\n<td style=\"border-color:#000000 black black #000000; vertical-align:top; width:65.95pt\"><p>\\n</p><p style=\"margin-left:0cm; margin-right:0cm\">체액량 감소<sup>b,e</sup>,</p>\\n<p style=\"margin-left:0cm; margin-right:0cm\">구갈<sup>**</sup></p>\\n</td>\\n<td style=\"border-color:#000000 black black #000000; vertical-align:top; width:63.55pt\"><p>\\n</p><p style=\"margin-left:0cm; margin-right:0cm\">당뇨병성 케톤산증 (제2형 당뇨병 환자인 경우)<sup>b,f</sup></p>\\n</td>\\n<td style=\"border-color:#000000 black black #000000; vertical-align:top; width:61.65pt\"><p>\\n</p><p style=\"margin-left:0cm; margin-right:0cm\">\\xa0</p>\\n</td>\\n</tr>\\n<tr>\\n<td style=\"border-color:#000000 black black; vertical-align:top; width:65.15pt\"><p>\\n</p><p style=\"margin-left:0cm; margin-right:0cm\">신경계</p>\\n</td>\\n<td style=\"border-color:#000000 black black #000000; vertical-align:top; width:68pt\"><p>\\n</p><p style=\"margin-left:0cm; margin-right:0cm\">\\xa0</p>\\n</td>\\n<td style=\"border-color:#000000 black black #000000; vertical-align:top; width:66.5pt\"><p>\\n</p><p style=\"margin-left:0cm; margin-right:0cm\">현기증</p>\\n</td>\\n<td style=\"border-color:#000000 black black #000000; vertical-align:top; width:65.95pt\"><p>\\n</p><p style=\"margin-left:0cm; margin-right:0cm\">\\xa0</p>\\n</td>\\n<td style=\"border-color:#000000 black black #000000; vertical-align:top; width:63.55pt\"><p>\\n</p><p style=\"margin-left:0cm; margin-right:0cm\">\\xa0</p>\\n</td>\\n<td style=\"border-color:#000000 black black #000000; vertical-align:top; width:61.65pt\"><p>\\n</p><p style=\"margin-left:0cm; margin-right:0cm\">\\xa0</p>\\n</td>\\n</tr>\\n<tr>\\n<td style=\"border-color:#000000 black black; vertical-align:top; width:65.15pt\"><p>\\n</p><p style=\"margin-left:0cm; margin-right:0cm\">위장관 이상</p>\\n</td>\\n<td style=\"border-color:#000000 black black #000000; vertical-align:top; width:68pt\"><p>\\n</p><p style=\"margin-left:0cm; margin-right:0cm\">\\xa0</p>\\n</td>\\n<td style=\"border-color:#000000 black black #000000; vertical-align:top; width:66.5pt\"><p>\\n</p><p style=\"margin-left:0cm; margin-right:0cm\">\\xa0</p>\\n</td>\\n<td style=\"border-color:#000000 black black #000000; vertical-align:top; width:65.95pt\"><p>\\n</p><p style=\"margin-left:0cm; margin-right:0cm\">변비<sup>**</sup></p>\\n<p style=\"margin-left:0cm; margin-right:0cm\">구강건조<sup>**</sup></p>\\n</td>\\n<td style=\"border-color:#000000 black black #000000; vertical-align:top; width:63.55pt\"><p>\\n</p><p style=\"margin-left:0cm; margin-right:0cm\">\\xa0</p>\\n</td>\\n<td style=\"border-color:#000000 black black #000000; vertical-align:top; width:61.65pt\"><p>\\n</p><p style=\"margin-left:0cm; margin-right:0cm\">\\xa0</p>\\n</td>\\n</tr>\\n<tr>\\n<td style=\"border-color:#000000 black black; vertical-align:top; width:65.15pt\"><p>\\n</p><p style=\"margin-left:0cm; margin-right:0cm\">근골격계 및 결합조직</p>\\n</td>\\n<td style=\"border-color:#000000 black black #000000; vertical-align:top; width:68pt\"><p>\\n</p><p style=\"margin-left:0cm; margin-right:0cm\">\\xa0</p>\\n</td>\\n<td style=\"border-color:#000000 black black #000000; vertical-align:top; width:66.5pt\"><p>\\n</p><p style=\"margin-left:0cm; margin-right:0cm\">요통</p>\\n</td>\\n<td style=\"border-color:#000000 black black #000000; vertical-align:top; width:65.95pt\"><p>\\n</p><p style=\"margin-left:0cm; margin-right:0cm\">\\xa0</p>\\n</td>\\n<td style=\"border-color:#000000 black black #000000; vertical-align:top; width:63.55pt\"><p>\\n</p><p style=\"margin-left:0cm; margin-right:0cm\">\\xa0</p>\\n</td>\\n<td style=\"border-color:#000000 black black #000000; vertical-align:top; width:61.65pt\"><p>\\n</p><p style=\"margin-left:0cm; margin-right:0cm\">\\xa0</p>\\n</td>\\n</tr>\\n<tr>\\n<td style=\"border-color:#000000 black black; vertical-align:top; width:65.15pt\"><p>\\n</p><p style=\"margin-left:0cm; margin-right:0cm\">신장 및 비뇨기계</p>\\n</td>\\n<td style=\"border-color:#000000 black black #000000; vertical-align:top; width:68pt\"><p>\\n</p><p style=\"margin-left:0cm; margin-right:0cm\">\\xa0</p>\\n</td>\\n<td style=\"border-color:#000000 black black #000000; vertical-align:top; width:66.5pt\"><p>\\n</p><p style=\"margin-left:0cm; margin-right:0cm\">배뇨통</p>\\n<p style=\"margin-left:0cm; margin-right:0cm\">다뇨<sup>*,g</sup></p>\\n</td>\\n<td style=\"border-color:#000000 black black #000000; vertical-align:top; width:65.95pt\"><p>\\n</p><p style=\"margin-left:0cm; margin-right:0cm\">야간뇨<sup>**</sup></p>\\n<p style=\"margin-left:0cm; margin-right:0cm\">\\xa0</p>\\n</td>\\n<td style=\"border-color:#000000 black black #000000; vertical-align:top; width:63.55pt\"><p>\\n</p><p style=\"margin-left:0cm; margin-right:0cm\">\\xa0</p>\\n</td>\\n<td style=\"border-color:#000000 black black #000000; vertical-align:top; width:61.65pt\"><p>\\n</p><p style=\"margin-left:0cm; margin-right:0cm\">간질성 신세뇨관염</p>\\n</td>\\n</tr>\\n<tr>\\n<td style=\"border-color:#000000 black black; vertical-align:top; width:65.15pt\"><p>\\n</p><p style=\"margin-left:0cm; margin-right:0cm\">생식기계 및 유방</p>\\n</td>\\n<td style=\"border-color:#000000 black black #000000; vertical-align:top; width:68pt\"><p>\\n</p><p style=\"margin-left:0cm; margin-right:0cm\">\\xa0</p>\\n</td>\\n<td style=\"border-color:#000000 black black #000000; vertical-align:top; width:66.5pt\"><p>\\n</p><p style=\"margin-left:0cm; margin-right:0cm\">\\xa0</p>\\n</td>\\n<td style=\"border-color:#000000 black black #000000; vertical-align:top; width:65.95pt\"><p>\\n</p><p style=\"margin-left:0cm; margin-right:0cm\">외음부 가려움증<sup>**</sup></p>\\n<p style=\"margin-left:0cm; margin-right:0cm\">생식기 가려움증<sup>**</sup></p>\\n</td>\\n<td style=\"border-color:#000000 black black #000000; vertical-align:top; width:63.55pt\"><p>\\n</p><p style=\"margin-left:0cm; margin-right:0cm\">\\xa0</p>\\n</td>\\n<td style=\"border-color:#000000 black black #000000; vertical-align:top; width:61.65pt\"><p>\\n</p><p style=\"margin-left:0cm; margin-right:0cm\">\\xa0</p>\\n</td>\\n</tr>\\n<tr>\\n<td style=\"border-color:#000000 black black; vertical-align:top; width:65.15pt\"><p>\\n</p><p style=\"margin-left:0cm; margin-right:0cm\">실험실적 수치</p>\\n</td>\\n<td style=\"border-color:#000000 black black #000000; vertical-align:top; width:68pt\"><p>\\n</p><p style=\"margin-left:0cm; margin-right:0cm\">\\xa0</p>\\n</td>\\n<td style=\"border-color:#000000 black black #000000; vertical-align:top; width:66.5pt\"><p>\\n</p><p style=\"margin-left:0cm; margin-right:0cm\">헤마토크릿 상승<sup>h</sup></p>\\n<p style=\"margin-left:0cm; margin-right:0cm\">치료 초기 신장 크레아티닌 청소율 감소<sup>b</sup></p>\\n<p style=\"margin-left:0cm; margin-right:0cm\">이상지질혈증 <sup>i</sup></p>\\n</td>\\n<td style=\"border-color:#000000 black black #000000; vertical-align:top; width:65.95pt\"><p>\\n</p><p style=\"margin-left:0cm; margin-right:0cm\">치료 초기 혈중 크레아티닌 상승<sup>**,b</sup></p>\\n<p style=\"margin-left:0cm; margin-right:0cm\">혈중 요소 상승<sup>**</sup></p>\\n<p style=\"margin-left:0cm; margin-right:0cm\">체중 감소<sup>**</sup></p>\\n</td>\\n<td style=\"border-color:#000000 black black #000000; vertical-align:top; width:63.55pt\"><p>\\n</p><p style=\"margin-left:0cm; margin-right:0cm\">\\xa0</p>\\n</td>\\n<td style=\"border-color:#000000 black black #000000; vertical-align:top; width:61.65pt\"><p>\\n</p><p style=\"margin-left:0cm; margin-right:0cm\">\\xa0</p>\\n</td>\\n</tr>\\n</tbody>\\n</table></div><div class=\"box_tbl\"><table border=\"1\" cellspacing=\"0\" class=\"tb_style2\">\\n<caption></caption>\\n<tbody>\\n<tr>\\n<td colspan=\"2\" rowspan=\"1\"><p>\\xa0</p></td>\\n<td style=\"width:236px\"><p>\\n</p><p style=\"text-align:center\">인과관계와 상관없는</p>\\n<p style=\"text-align:center\">중대한 이상사례</p>\\n<p style=\"text-align:center\">1.59%(48/3,027명, 52건)</p>\\n</td>\\n<td style=\"width:205px\"><p>\\n</p><p style=\"text-align:center\">인과관계를 배제할 수 없는</p>\\n<p style=\"text-align:center\">중대한 약물이상반응</p>\\n<p style=\"text-align:center\">0.17%(5/3,027명, 5건)</p>\\n</td>\\n</tr>\\n<tr>\\n<td rowspan=\"14\"><p>드물게(0.01～0.1%미만)</p></td>\\n<td><p>위장관계 장애</p></td>\\n<td style=\"width:236px\"><p>위식도역류성질환, 상복부통, 장게실, 장천공, 급성췌장염, 만성췌장염</p></td>\\n<td style=\"width:205px\"><p>-</p></td>\\n</tr>\\n<tr>\\n<td><p>대사 및 영양 질환</p></td>\\n<td style=\"width:236px\"><p>고혈당증</p></td>\\n<td style=\"width:205px\"><p>고혈당증</p></td>\\n</tr>\\n<tr>\\n<td><p>중추 및 말초신경계 장애</p></td>\\n<td style=\"width:236px\"><p>감각이상, 뇌경색, 신경압박</p></td>\\n<td style=\"width:205px\"><p>-</p></td>\\n</tr>\\n<tr>\\n<td><p>감염 및 침습</p></td>\\n<td style=\"width:236px\"><p>요로감염, 부비동염, 게실염, 골반염, 폐렴, 폐결핵</p></td>\\n<td style=\"width:205px\"><p>요로감염, 급성신우신염</p></td>\\n</tr>\\n<tr>\\n<td><p>전신장애 및 투여부위 상태</p></td>\\n<td style=\"width:236px\"><p>무력증, 통증</p></td>\\n<td style=\"width:205px\"><p>-</p></td>\\n</tr>\\n<tr>\\n<td><p>손상, 중독 및 시술상 합병증</p></td>\\n<td style=\"width:236px\"><p>인대염좌, 도로교통사고, 약물중독, 발목골절, 손 골절, 장골골절, 반월판손상, 흉추골절, 정강뼈골절</p></td>\\n<td style=\"width:205px\"><p>-</p></td>\\n</tr>\\n<tr>\\n<td><p>눈장애</p></td>\\n<td style=\"width:236px\"><p>각막염</p></td>\\n<td style=\"width:205px\"><p>-</p></td>\\n</tr>\\n<tr>\\n<td><p>호흡기계 질환</p></td>\\n<td style=\"width:236px\"><p>만성폐쇄성폐질환, 객혈</p></td>\\n<td style=\"width:205px\"><p>-</p></td>\\n</tr>\\n<tr>\\n<td><p>혈관 질환</p></td>\\n<td style=\"width:236px\"><p>뇌출혈, 말초 동맥 폐색</p></td>\\n<td style=\"width:205px\"><p>-</p></td>\\n</tr>\\n<tr>\\n<td><p>심장 장애</p></td>\\n<td style=\"width:236px\"><p>협심증, 심근경색증</p></td>\\n<td style=\"width:205px\"><p>-</p></td>\\n</tr>\\n<tr>\\n<td><p>간 및 담도계 질환</p></td>\\n<td style=\"width:236px\"><p>담관결석, 담관염, 알코올성간경화</p></td>\\n<td style=\"width:205px\"><p>-</p></td>\\n</tr>\\n<tr>\\n<td><p>정신질환</p></td>\\n<td style=\"width:236px\"><p>우울증, 자살시도</p></td>\\n<td style=\"width:205px\"><p>-</p></td>\\n</tr>\\n<tr>\\n<td><p>신생물</p></td>\\n<td style=\"width:236px\"><p>위선암</p></td>\\n<td style=\"width:205px\"><p>-</p></td>\\n</tr>\\n<tr>\\n<td><p>방어기전 장애</p></td>\\n<td style=\"width:236px\"><p>아나필락시스반응</p></td>\\n<td style=\"width:205px\"><p>-</p></td>\\n</tr>\\n<tr>\\n<td rowspan=\"2\"><p>흔하지 않게(0.1～1%미만)</p></td>\\n<td><p>감염 및 침습</p></td>\\n<td style=\"width:236px\"><p>급성신우신염</p></td>\\n<td style=\"width:205px\"><p>-</p></td>\\n</tr>\\n<tr>\\n<td><p>전신장애 및 투여부위 상태</p></td>\\n<td style=\"width:236px\"><p>가슴통증</p></td>\\n<td style=\"width:205px\"><p>-</p></td>\\n</tr>\\n</tbody>\\n</table></div><div class=\"box_tbl\"><table border=\"1\" cellspacing=\"0\" class=\"tb_style2\">\\n<caption></caption>\\n<tbody>\\n<tr>\\n<td style=\"width:103px\"><p>\\xa0</p></td>\\n<td style=\"width:103px\"><p>\\xa0</p></td>\\n<td style=\"width:235px\"><p>\\n</p><p style=\"text-align:center\">인과관계와 상관없는</p>\\n<p style=\"text-align:center\">예상하지 못한 이상사례</p>\\n<p style=\"text-align:center\">15.73%(476/3,027명, 624건)</p>\\n</td>\\n<td style=\"width:203px\"><p>\\n</p><p style=\"text-align:center\">인과관계를 배제할 수 없는 예상하지 못한 약물이상반응</p>\\n<p style=\"text-align:center\">3.67%(111/3,027명, 129건)</p>\\n</td>\\n</tr>\\n<tr>\\n<td rowspan=\"22\" style=\"width:103px\"><p>드물게(0.01～0.1%미만)</p></td>\\n<td style=\"width:103px\"><p>위장관계 장애</p></td>\\n<td style=\"width:235px\"><p>만성위염, 장게실, 위창자내공기참, 잦은장운동, 위장염, 대장용종, 장천공, 명치불편, 기능성위장장애, 미란성위염, 잇몸장애, 잇몸통증, 치질, 열공탈장, 과민성대장증후군, 흑색변, 급성췌장염, 만성췌장염</p></td>\\n<td style=\"width:203px\"><p>위염, 위장장애, 복부불편함, 복통, 식도염, 하복부통, 잦은장운동</p></td>\\n</tr>\\n<tr>\\n<td style=\"width:103px\"><p>비뇨기계 질환</p></td>\\n<td style=\"width:235px\"><p>긴박뇨, 당뇨병성신증, 과민성방광, 미세알부민뇨, 복압성요실금, 배뇨주저, 요로결석</p></td>\\n<td style=\"width:203px\"><p>소변이상, 긴박뇨</p></td>\\n</tr>\\n<tr>\\n<td style=\"width:103px\"><p>임상 검사</p></td>\\n<td style=\"width:235px\"><p>혈중젖산증가, 림프구감소증</p></td>\\n<td style=\"width:203px\"><p>체중증가, 혈중젖산증가</p></td>\\n</tr>\\n<tr>\\n<td style=\"width:103px\"><p>대사 및 영양 질환</p></td>\\n<td style=\"width:235px\"><p>비타민D결핍</p></td>\\n<td style=\"width:203px\"><p>고혈당증, 식욕증가</p></td>\\n</tr>\\n<tr>\\n<td style=\"width:103px\"><p>중추 및 말초신경계 장애</p></td>\\n<td style=\"width:235px\"><p>미각이상, 졸림, 긴장성두통, 수근관증후군, 뇌경색, 당뇨병성신경병증, 의식불명, 신경압박, 신경통, 말초신경병증, 수면장애, 실신, 진전</p></td>\\n<td style=\"width:203px\"><p>미각이상</p></td>\\n</tr>\\n<tr>\\n<td style=\"width:103px\"><p>감염 및 침습</p></td>\\n<td style=\"width:235px\"><p>기관지염, 대상포진, 부비동염, 편도선염, 게실염, 단순포진, 다래끼, 관절농양, 후두염, 중이염, 골반염, 치관주위염, 폐렴, 폐결핵, 비염, 발톱무좀</p></td>\\n<td style=\"width:203px\"><p>단순포진</p></td>\\n</tr>\\n<tr>\\n<td style=\"width:103px\"><p>전신장애 및 투여부위 상태</p></td>\\n<td style=\"width:235px\"><p>부종, 발열, 이물감, 얼굴부종, 얼굴통증, 온감, 독감유사증후</p></td>\\n<td style=\"width:203px\"><p>가슴통증, 피로, 통증, 부종, 이물감</p></td>\\n</tr>\\n<tr>\\n<td style=\"width:103px\"><p>생식기능 장애</p></td>\\n<td style=\"width:235px\"><p>유방종괴, 발기기능장애, 양성전립선비대증, 유방통증, 생식기발진, 월경과다, 생식기부종, 자궁출혈, 질출혈, 외음부질불편감</p></td>\\n<td style=\"width:203px\"><p>월경불순, 생식기부종, 외음부질불편감</p></td>\\n</tr>\\n<tr>\\n<td style=\"width:103px\"><p>피부와 부속기관 장애</p></td>\\n<td style=\"width:235px\"><p>탈모, 피부염, 피부건조증, 알레르기피부염, 접촉성피부염, 당뇨병성족부궤양, 발한 이상 습진, 동전습진, 습진, 과각화증, 손발톱색소침착, 피부병변</p></td>\\n<td style=\"width:203px\"><p>두드러기, 식은땀, 피부염, 피부건조증, 과각화증, 피부병변</p></td>\\n</tr>\\n<tr>\\n<td style=\"width:103px\"><p>근육-골격계 장애</p></td>\\n<td style=\"width:235px\"><p>옆구리통증, 근섬유통, 사지불편감, 근경련, 근골격불편, 골감소증</p></td>\\n<td style=\"width:203px\"><p>근위약</p></td>\\n</tr>\\n<tr>\\n<td style=\"width:103px\"><p>손상, 중독 및 시술상 합병증</p></td>\\n<td style=\"width:235px\"><p>타박상, 도로교통사고, 약물중독, 발목골절, 안와골절, 족부골절, 위장관내이물, 손 골절, 장골골절, 열상, 인대파열, 사지손상, 반월판손상, 피부찰과상, 힘줄파열, 흉추골절, 정강뼈골절, 치아손상</p></td>\\n<td style=\"width:203px\"><p>-</p></td>\\n</tr>\\n<tr>\\n<td style=\"width:103px\"><p>눈장애</p></td>\\n<td style=\"width:235px\"><p>건성안, 안통, 망막장애, 시력저하, 안검염, 백내장, 결막부종, 알레르기결막염, 결막염, 복시, 눈꺼풀부종, 각막염, 고안압증, 시각장애, 유리체부유물</p></td>\\n<td style=\"width:203px\"><p>-</p></td>\\n</tr>\\n<tr>\\n<td style=\"width:103px\"><p>호흡기계 질환</p></td>\\n<td style=\"width:235px\"><p>입인두통, 알레르기비염, 천식, 만성폐쇄성질환, 발성장애, 비출혈, 객혈, 객담, 수면무호흡증후군, 천명</p></td>\\n<td style=\"width:203px\"><p>-</p></td>\\n</tr>\\n<tr>\\n<td style=\"width:103px\"><p>혈관 질환</p></td>\\n<td style=\"width:235px\"><p>동맥경화증, 뇌출혈, 홍조, 말초 동맥 폐색, 말초한랭, 정맥류, 혈관성두통</p></td>\\n<td style=\"width:203px\"><p>기립성저혈압</p></td>\\n</tr>\\n<tr>\\n<td style=\"width:103px\"><p>심장 장애</p></td>\\n<td style=\"width:235px\"><p>협심증, 심방세동, 이완기장애, 심근경색증</p></td>\\n<td style=\"width:203px\"><p>-</p></td>\\n</tr>\\n<tr>\\n<td style=\"width:103px\"><p>정신질환</p></td>\\n<td style=\"width:235px\"><p>불안장애, 유뇨증, 우울증, 환청, 수면장애, 자살시도</p></td>\\n<td style=\"width:203px\"><p>불안장애, 유뇨증</p></td>\\n</tr>\\n<tr>\\n<td style=\"width:103px\"><p>간 및 담도계 질환</p></td>\\n<td style=\"width:235px\"><p>담관결석, 담관염, 알코올성간경화, 간낭종</p></td>\\n<td style=\"width:203px\"><p>-</p></td>\\n</tr>\\n<tr>\\n<td style=\"width:103px\"><p>청력 및 전정기관 장애</p></td>\\n<td style=\"width:235px\"><p>현훈</p></td>\\n<td style=\"width:203px\"><p>-</p></td>\\n</tr>\\n<tr>\\n<td style=\"width:103px\"><p>신생물</p></td>\\n<td style=\"width:235px\"><p>위선암, 항문생식기사마귀, 위선종, 신경종, 상세불명의뇌하수체신생물</p></td>\\n<td style=\"width:203px\"><p>상세불명의뇌하수체신생물</p></td>\\n</tr>\\n<tr>\\n<td style=\"width:103px\"><p>내분비 질환</p></td>\\n<td style=\"width:235px\"><p>남성생식선저하증, 갑상선낭종, 갑상선종괴</p></td>\\n<td style=\"width:203px\"><p>-</p></td>\\n</tr>\\n<tr>\\n<td style=\"width:103px\"><p>방어기전 장애</p></td>\\n<td style=\"width:235px\"><p>아나필락시스 반응, 음식알레르기</p></td>\\n<td style=\"width:203px\"><p>음식알레르기</p></td>\\n</tr>\\n<tr>\\n<td style=\"width:103px\"><p>혈액 및 림프계 장애</p></td>\\n<td style=\"width:235px\"><p>적혈구증다증</p></td>\\n<td style=\"width:203px\"><p>-</p></td>\\n</tr>\\n<tr>\\n<td rowspan=\"18\" style=\"width:103px\"><p>흔하지 않게(0.1～1%미만)</p></td>\\n<td style=\"width:103px\"><p>위장관계 장애</p></td>\\n<td style=\"width:235px\"><p>소화불량, 오심, 설사, 위염, 구토, 위장장애, 복부불편함, 복통, 위식도역류성질환, 식도염, 하복부통, 상복부통, 장염, 위궤양</p></td>\\n<td style=\"width:203px\"><p>소화불량, 오심, 설사, 구토</p></td>\\n</tr>\\n<tr>\\n<td style=\"width:103px\"><p>비뇨기계 질환</p></td>\\n<td style=\"width:235px\"><p>요저류, 소변이상</p></td>\\n<td style=\"width:203px\"><p>요저류</p></td>\\n</tr>\\n<tr>\\n<td style=\"width:103px\"><p>임상 검사</p></td>\\n<td style=\"width:235px\"><p>알라닌아미노전이효소증가, 아스파르테이트아미노전이효소증가, 체중증가</p></td>\\n<td style=\"width:203px\"><p>-</p></td>\\n</tr>\\n<tr>\\n<td style=\"width:103px\"><p>대사 및 영양 질환</p></td>\\n<td style=\"width:235px\"><p>식욕감소, 다음증, 고혈당증, 식욕증가</p></td>\\n<td style=\"width:203px\"><p>식욕감소, 다음증</p></td>\\n</tr>\\n<tr>\\n<td style=\"width:103px\"><p>중추 및 말초신경계 장애</p></td>\\n<td style=\"width:235px\"><p>두통, 감각저하, 감각이상</p></td>\\n<td style=\"width:203px\"><p>두통</p></td>\\n</tr>\\n<tr>\\n<td style=\"width:103px\"><p>감염 및 침습</p></td>\\n<td style=\"width:235px\"><p>비인두염, 상기도감염</p></td>\\n<td style=\"width:203px\"><p>-</p></td>\\n</tr>\\n<tr>\\n<td style=\"width:103px\"><p>전신장애 및 투여부위 상태</p></td>\\n<td style=\"width:235px\"><p>무력증, 가슴통증, 피로, 가슴불편함, 통증, 말초부종, 전신부종, 허기</p></td>\\n<td style=\"width:203px\"><p>무력증, 허기</p></td>\\n</tr>\\n<tr>\\n<td style=\"width:103px\"><p>생식기능 장애</p></td>\\n<td style=\"width:235px\"><p>질분비물, 월경불순</p></td>\\n<td style=\"width:203px\"><p>질분비물</p></td>\\n</tr>\\n<tr>\\n<td style=\"width:103px\"><p>피부와 부속기관 장애</p></td>\\n<td style=\"width:235px\"><p>가려움증, 두드러기, 식은땀</p></td>\\n<td style=\"width:203px\"><p>가려움증</p></td>\\n</tr>\\n<tr>\\n<td style=\"width:103px\"><p>근육-골격계 장애</p></td>\\n<td style=\"width:235px\"><p>관절통, 근골격통증, 사지통증, 근위약, 근육통, 골관절염</p></td>\\n<td style=\"width:203px\"><p>-</p></td>\\n</tr>\\n<tr>\\n<td style=\"width:103px\"><p>손상, 중독 및 시술상 합병증</p></td>\\n<td style=\"width:235px\"><p>인대염좌</p></td>\\n<td style=\"width:203px\"><p>-</p></td>\\n</tr>\\n<tr>\\n<td style=\"width:103px\"><p>눈장애</p></td>\\n<td style=\"width:235px\"><p>당뇨병성망막병증</p></td>\\n<td style=\"width:203px\"><p>-</p></td>\\n</tr>\\n<tr>\\n<td style=\"width:103px\"><p>호흡기계 질환</p></td>\\n<td style=\"width:235px\"><p>기침, 호흡곤란</p></td>\\n<td style=\"width:203px\"><p>-</p></td>\\n</tr>\\n<tr>\\n<td style=\"width:103px\"><p>혈관 질환</p></td>\\n<td style=\"width:235px\"><p>기립성저혈압</p></td>\\n<td style=\"width:203px\"><p>\\xa0</p></td>\\n</tr>\\n<tr>\\n<td style=\"width:103px\"><p>심장 장애</p></td>\\n<td style=\"width:235px\"><p>두근거림</p></td>\\n<td style=\"width:203px\"><p>두근거림</p></td>\\n</tr>\\n<tr>\\n<td style=\"width:103px\"><p>정신질환</p></td>\\n<td style=\"width:235px\"><p>불면증</p></td>\\n<td style=\"width:203px\"><p>-</p></td>\\n</tr>\\n<tr>\\n<td style=\"width:103px\"><p>간 및 담도계 질환</p></td>\\n<td style=\"width:235px\"><p>지방간, 담낭용종</p></td>\\n<td style=\"width:203px\"><p>-</p></td>\\n</tr>\\n<tr>\\n<td style=\"width:103px\"><p>청력 및 전정기관 장애</p></td>\\n<td style=\"width:235px\"><p>이명</p></td>\\n<td style=\"width:203px\"><p>-</p></td>\\n</tr>\\n</tbody>\\n</table></div>'"
      ]
     },
     "execution_count": 125,
     "metadata": {},
     "output_type": "execute_result"
    }
   ],
   "source": [
    "t"
   ]
  },
  {
   "cell_type": "code",
   "execution_count": 127,
   "metadata": {},
   "outputs": [],
   "source": [
    "t = t[:t.index(\"<table\")] + t[t.index(\"</table>\"):]\n",
    "t = t.replace(\"</table>\", \"\", 1)"
   ]
  },
  {
   "cell_type": "code",
   "execution_count": 128,
   "metadata": {},
   "outputs": [
    {
     "data": {
      "text/plain": [
       "'<div class=\"box_tbl\"></div><div class=\"box_tbl\"></div><div class=\"box_tbl\"><table border=\"1\" cellspacing=\"0\" class=\"tb_style2\">\\n<caption></caption>\\n<tbody>\\n<tr>\\n<td style=\"width:103px\"><p>\\xa0</p></td>\\n<td style=\"width:103px\"><p>\\xa0</p></td>\\n<td style=\"width:235px\"><p>\\n</p><p style=\"text-align:center\">인과관계와 상관없는</p>\\n<p style=\"text-align:center\">예상하지 못한 이상사례</p>\\n<p style=\"text-align:center\">15.73%(476/3,027명, 624건)</p>\\n</td>\\n<td style=\"width:203px\"><p>\\n</p><p style=\"text-align:center\">인과관계를 배제할 수 없는 예상하지 못한 약물이상반응</p>\\n<p style=\"text-align:center\">3.67%(111/3,027명, 129건)</p>\\n</td>\\n</tr>\\n<tr>\\n<td rowspan=\"22\" style=\"width:103px\"><p>드물게(0.01～0.1%미만)</p></td>\\n<td style=\"width:103px\"><p>위장관계 장애</p></td>\\n<td style=\"width:235px\"><p>만성위염, 장게실, 위창자내공기참, 잦은장운동, 위장염, 대장용종, 장천공, 명치불편, 기능성위장장애, 미란성위염, 잇몸장애, 잇몸통증, 치질, 열공탈장, 과민성대장증후군, 흑색변, 급성췌장염, 만성췌장염</p></td>\\n<td style=\"width:203px\"><p>위염, 위장장애, 복부불편함, 복통, 식도염, 하복부통, 잦은장운동</p></td>\\n</tr>\\n<tr>\\n<td style=\"width:103px\"><p>비뇨기계 질환</p></td>\\n<td style=\"width:235px\"><p>긴박뇨, 당뇨병성신증, 과민성방광, 미세알부민뇨, 복압성요실금, 배뇨주저, 요로결석</p></td>\\n<td style=\"width:203px\"><p>소변이상, 긴박뇨</p></td>\\n</tr>\\n<tr>\\n<td style=\"width:103px\"><p>임상 검사</p></td>\\n<td style=\"width:235px\"><p>혈중젖산증가, 림프구감소증</p></td>\\n<td style=\"width:203px\"><p>체중증가, 혈중젖산증가</p></td>\\n</tr>\\n<tr>\\n<td style=\"width:103px\"><p>대사 및 영양 질환</p></td>\\n<td style=\"width:235px\"><p>비타민D결핍</p></td>\\n<td style=\"width:203px\"><p>고혈당증, 식욕증가</p></td>\\n</tr>\\n<tr>\\n<td style=\"width:103px\"><p>중추 및 말초신경계 장애</p></td>\\n<td style=\"width:235px\"><p>미각이상, 졸림, 긴장성두통, 수근관증후군, 뇌경색, 당뇨병성신경병증, 의식불명, 신경압박, 신경통, 말초신경병증, 수면장애, 실신, 진전</p></td>\\n<td style=\"width:203px\"><p>미각이상</p></td>\\n</tr>\\n<tr>\\n<td style=\"width:103px\"><p>감염 및 침습</p></td>\\n<td style=\"width:235px\"><p>기관지염, 대상포진, 부비동염, 편도선염, 게실염, 단순포진, 다래끼, 관절농양, 후두염, 중이염, 골반염, 치관주위염, 폐렴, 폐결핵, 비염, 발톱무좀</p></td>\\n<td style=\"width:203px\"><p>단순포진</p></td>\\n</tr>\\n<tr>\\n<td style=\"width:103px\"><p>전신장애 및 투여부위 상태</p></td>\\n<td style=\"width:235px\"><p>부종, 발열, 이물감, 얼굴부종, 얼굴통증, 온감, 독감유사증후</p></td>\\n<td style=\"width:203px\"><p>가슴통증, 피로, 통증, 부종, 이물감</p></td>\\n</tr>\\n<tr>\\n<td style=\"width:103px\"><p>생식기능 장애</p></td>\\n<td style=\"width:235px\"><p>유방종괴, 발기기능장애, 양성전립선비대증, 유방통증, 생식기발진, 월경과다, 생식기부종, 자궁출혈, 질출혈, 외음부질불편감</p></td>\\n<td style=\"width:203px\"><p>월경불순, 생식기부종, 외음부질불편감</p></td>\\n</tr>\\n<tr>\\n<td style=\"width:103px\"><p>피부와 부속기관 장애</p></td>\\n<td style=\"width:235px\"><p>탈모, 피부염, 피부건조증, 알레르기피부염, 접촉성피부염, 당뇨병성족부궤양, 발한 이상 습진, 동전습진, 습진, 과각화증, 손발톱색소침착, 피부병변</p></td>\\n<td style=\"width:203px\"><p>두드러기, 식은땀, 피부염, 피부건조증, 과각화증, 피부병변</p></td>\\n</tr>\\n<tr>\\n<td style=\"width:103px\"><p>근육-골격계 장애</p></td>\\n<td style=\"width:235px\"><p>옆구리통증, 근섬유통, 사지불편감, 근경련, 근골격불편, 골감소증</p></td>\\n<td style=\"width:203px\"><p>근위약</p></td>\\n</tr>\\n<tr>\\n<td style=\"width:103px\"><p>손상, 중독 및 시술상 합병증</p></td>\\n<td style=\"width:235px\"><p>타박상, 도로교통사고, 약물중독, 발목골절, 안와골절, 족부골절, 위장관내이물, 손 골절, 장골골절, 열상, 인대파열, 사지손상, 반월판손상, 피부찰과상, 힘줄파열, 흉추골절, 정강뼈골절, 치아손상</p></td>\\n<td style=\"width:203px\"><p>-</p></td>\\n</tr>\\n<tr>\\n<td style=\"width:103px\"><p>눈장애</p></td>\\n<td style=\"width:235px\"><p>건성안, 안통, 망막장애, 시력저하, 안검염, 백내장, 결막부종, 알레르기결막염, 결막염, 복시, 눈꺼풀부종, 각막염, 고안압증, 시각장애, 유리체부유물</p></td>\\n<td style=\"width:203px\"><p>-</p></td>\\n</tr>\\n<tr>\\n<td style=\"width:103px\"><p>호흡기계 질환</p></td>\\n<td style=\"width:235px\"><p>입인두통, 알레르기비염, 천식, 만성폐쇄성질환, 발성장애, 비출혈, 객혈, 객담, 수면무호흡증후군, 천명</p></td>\\n<td style=\"width:203px\"><p>-</p></td>\\n</tr>\\n<tr>\\n<td style=\"width:103px\"><p>혈관 질환</p></td>\\n<td style=\"width:235px\"><p>동맥경화증, 뇌출혈, 홍조, 말초 동맥 폐색, 말초한랭, 정맥류, 혈관성두통</p></td>\\n<td style=\"width:203px\"><p>기립성저혈압</p></td>\\n</tr>\\n<tr>\\n<td style=\"width:103px\"><p>심장 장애</p></td>\\n<td style=\"width:235px\"><p>협심증, 심방세동, 이완기장애, 심근경색증</p></td>\\n<td style=\"width:203px\"><p>-</p></td>\\n</tr>\\n<tr>\\n<td style=\"width:103px\"><p>정신질환</p></td>\\n<td style=\"width:235px\"><p>불안장애, 유뇨증, 우울증, 환청, 수면장애, 자살시도</p></td>\\n<td style=\"width:203px\"><p>불안장애, 유뇨증</p></td>\\n</tr>\\n<tr>\\n<td style=\"width:103px\"><p>간 및 담도계 질환</p></td>\\n<td style=\"width:235px\"><p>담관결석, 담관염, 알코올성간경화, 간낭종</p></td>\\n<td style=\"width:203px\"><p>-</p></td>\\n</tr>\\n<tr>\\n<td style=\"width:103px\"><p>청력 및 전정기관 장애</p></td>\\n<td style=\"width:235px\"><p>현훈</p></td>\\n<td style=\"width:203px\"><p>-</p></td>\\n</tr>\\n<tr>\\n<td style=\"width:103px\"><p>신생물</p></td>\\n<td style=\"width:235px\"><p>위선암, 항문생식기사마귀, 위선종, 신경종, 상세불명의뇌하수체신생물</p></td>\\n<td style=\"width:203px\"><p>상세불명의뇌하수체신생물</p></td>\\n</tr>\\n<tr>\\n<td style=\"width:103px\"><p>내분비 질환</p></td>\\n<td style=\"width:235px\"><p>남성생식선저하증, 갑상선낭종, 갑상선종괴</p></td>\\n<td style=\"width:203px\"><p>-</p></td>\\n</tr>\\n<tr>\\n<td style=\"width:103px\"><p>방어기전 장애</p></td>\\n<td style=\"width:235px\"><p>아나필락시스 반응, 음식알레르기</p></td>\\n<td style=\"width:203px\"><p>음식알레르기</p></td>\\n</tr>\\n<tr>\\n<td style=\"width:103px\"><p>혈액 및 림프계 장애</p></td>\\n<td style=\"width:235px\"><p>적혈구증다증</p></td>\\n<td style=\"width:203px\"><p>-</p></td>\\n</tr>\\n<tr>\\n<td rowspan=\"18\" style=\"width:103px\"><p>흔하지 않게(0.1～1%미만)</p></td>\\n<td style=\"width:103px\"><p>위장관계 장애</p></td>\\n<td style=\"width:235px\"><p>소화불량, 오심, 설사, 위염, 구토, 위장장애, 복부불편함, 복통, 위식도역류성질환, 식도염, 하복부통, 상복부통, 장염, 위궤양</p></td>\\n<td style=\"width:203px\"><p>소화불량, 오심, 설사, 구토</p></td>\\n</tr>\\n<tr>\\n<td style=\"width:103px\"><p>비뇨기계 질환</p></td>\\n<td style=\"width:235px\"><p>요저류, 소변이상</p></td>\\n<td style=\"width:203px\"><p>요저류</p></td>\\n</tr>\\n<tr>\\n<td style=\"width:103px\"><p>임상 검사</p></td>\\n<td style=\"width:235px\"><p>알라닌아미노전이효소증가, 아스파르테이트아미노전이효소증가, 체중증가</p></td>\\n<td style=\"width:203px\"><p>-</p></td>\\n</tr>\\n<tr>\\n<td style=\"width:103px\"><p>대사 및 영양 질환</p></td>\\n<td style=\"width:235px\"><p>식욕감소, 다음증, 고혈당증, 식욕증가</p></td>\\n<td style=\"width:203px\"><p>식욕감소, 다음증</p></td>\\n</tr>\\n<tr>\\n<td style=\"width:103px\"><p>중추 및 말초신경계 장애</p></td>\\n<td style=\"width:235px\"><p>두통, 감각저하, 감각이상</p></td>\\n<td style=\"width:203px\"><p>두통</p></td>\\n</tr>\\n<tr>\\n<td style=\"width:103px\"><p>감염 및 침습</p></td>\\n<td style=\"width:235px\"><p>비인두염, 상기도감염</p></td>\\n<td style=\"width:203px\"><p>-</p></td>\\n</tr>\\n<tr>\\n<td style=\"width:103px\"><p>전신장애 및 투여부위 상태</p></td>\\n<td style=\"width:235px\"><p>무력증, 가슴통증, 피로, 가슴불편함, 통증, 말초부종, 전신부종, 허기</p></td>\\n<td style=\"width:203px\"><p>무력증, 허기</p></td>\\n</tr>\\n<tr>\\n<td style=\"width:103px\"><p>생식기능 장애</p></td>\\n<td style=\"width:235px\"><p>질분비물, 월경불순</p></td>\\n<td style=\"width:203px\"><p>질분비물</p></td>\\n</tr>\\n<tr>\\n<td style=\"width:103px\"><p>피부와 부속기관 장애</p></td>\\n<td style=\"width:235px\"><p>가려움증, 두드러기, 식은땀</p></td>\\n<td style=\"width:203px\"><p>가려움증</p></td>\\n</tr>\\n<tr>\\n<td style=\"width:103px\"><p>근육-골격계 장애</p></td>\\n<td style=\"width:235px\"><p>관절통, 근골격통증, 사지통증, 근위약, 근육통, 골관절염</p></td>\\n<td style=\"width:203px\"><p>-</p></td>\\n</tr>\\n<tr>\\n<td style=\"width:103px\"><p>손상, 중독 및 시술상 합병증</p></td>\\n<td style=\"width:235px\"><p>인대염좌</p></td>\\n<td style=\"width:203px\"><p>-</p></td>\\n</tr>\\n<tr>\\n<td style=\"width:103px\"><p>눈장애</p></td>\\n<td style=\"width:235px\"><p>당뇨병성망막병증</p></td>\\n<td style=\"width:203px\"><p>-</p></td>\\n</tr>\\n<tr>\\n<td style=\"width:103px\"><p>호흡기계 질환</p></td>\\n<td style=\"width:235px\"><p>기침, 호흡곤란</p></td>\\n<td style=\"width:203px\"><p>-</p></td>\\n</tr>\\n<tr>\\n<td style=\"width:103px\"><p>혈관 질환</p></td>\\n<td style=\"width:235px\"><p>기립성저혈압</p></td>\\n<td style=\"width:203px\"><p>\\xa0</p></td>\\n</tr>\\n<tr>\\n<td style=\"width:103px\"><p>심장 장애</p></td>\\n<td style=\"width:235px\"><p>두근거림</p></td>\\n<td style=\"width:203px\"><p>두근거림</p></td>\\n</tr>\\n<tr>\\n<td style=\"width:103px\"><p>정신질환</p></td>\\n<td style=\"width:235px\"><p>불면증</p></td>\\n<td style=\"width:203px\"><p>-</p></td>\\n</tr>\\n<tr>\\n<td style=\"width:103px\"><p>간 및 담도계 질환</p></td>\\n<td style=\"width:235px\"><p>지방간, 담낭용종</p></td>\\n<td style=\"width:203px\"><p>-</p></td>\\n</tr>\\n<tr>\\n<td style=\"width:103px\"><p>청력 및 전정기관 장애</p></td>\\n<td style=\"width:235px\"><p>이명</p></td>\\n<td style=\"width:203px\"><p>-</p></td>\\n</tr>\\n</tbody>\\n</table></div>'"
      ]
     },
     "execution_count": 128,
     "metadata": {},
     "output_type": "execute_result"
    }
   ],
   "source": [
    "t"
   ]
  },
  {
   "cell_type": "code",
   "execution_count": 129,
   "metadata": {},
   "outputs": [],
   "source": [
    "soup = BeautifulSoup(t, \"html.parser\")\n",
    "w = open('temp_str_1.txt', 'w', encoding='utf-8')\n",
    "w.write(soup.text)\n",
    "w.close()"
   ]
  }
 ],
 "metadata": {
  "kernelspec": {
   "display_name": "Python 3",
   "language": "python",
   "name": "python3"
  },
  "language_info": {
   "codemirror_mode": {
    "name": "ipython",
    "version": 3
   },
   "file_extension": ".py",
   "mimetype": "text/x-python",
   "name": "python",
   "nbconvert_exporter": "python",
   "pygments_lexer": "ipython3",
   "version": "3.11.5"
  },
  "orig_nbformat": 4
 },
 "nbformat": 4,
 "nbformat_minor": 2
}
