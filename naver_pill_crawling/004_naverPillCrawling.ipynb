{
 "cells": [
  {
   "cell_type": "code",
   "execution_count": 1,
   "metadata": {},
   "outputs": [],
   "source": [
    "from selenium import webdriver\n",
    "from selenium.webdriver.chrome.service import Service\n",
    "from selenium.webdriver.common.by import By\n",
    "from webdriver_manager.chrome import ChromeDriverManager\n",
    "from bs4 import BeautifulSoup\n",
    "import time\n",
    "import pandas as pd\n",
    "import requests"
   ]
  },
  {
   "cell_type": "code",
   "execution_count": 3,
   "metadata": {},
   "outputs": [],
   "source": [
    "def frist_name(browser, num):\n",
    "    try:\n",
    "        name = browser.find_element(By.XPATH, f'//*[@id=\"content\"]/div[3]/ul/li[{num}]/div/div[1]/strong/a[1]/strong').text\n",
    "    except:\n",
    "        name = 'Nan'\n",
    "\n",
    "    return name\n",
    "\n",
    "\n",
    "def frist_rating(browser, num):\n",
    "    try:\n",
    "        rating = browser.find_element(By.CSS_SELECTOR, f'#content > div.list_wrap > ul > li:nth-child({num}) > div.info_area > div.related.v2 > div > span:nth-child(2) > div > a > span.u_likeit_text.num._count').text\n",
    "    except:\n",
    "        rating = browser.find_element(By.CSS_SELECTOR, f'#content > div.list_wrap > ul > li:nth-child({num}) > div.info_area > div.related.v2 > div > span:nth-child(2) > div > a > span.u_likeit_text._count').text     \n",
    "\n",
    "    return rating\n",
    "\n",
    "\n",
    "def frist_url(browser, num):\n",
    "    try:\n",
    "        url = browser.find_element(By.XPATH, f'//*[@id=\"content\"]/div[3]/ul/li[{num}]/div/div[1]/strong/a[1]').get_attribute('href')\n",
    "    except:\n",
    "        url = 'Nan'\n",
    "    \n",
    "    return url\n",
    "\n",
    "\n",
    "def page_check(browser):\n",
    "    if browser.find_element(By.XPATH, '//*[@id=\"paginate\"]/span[2]/a').get_attribute('href')[-1] == '#':\n",
    "        return True"
   ]
  },
  {
   "cell_type": "code",
   "execution_count": 4,
   "metadata": {},
   "outputs": [],
   "source": [
    "r = open('pill_list.txt', 'r')\n",
    "pill_list = [i.rstrip() for i in r.readlines()]"
   ]
  },
  {
   "cell_type": "code",
   "execution_count": 5,
   "metadata": {},
   "outputs": [
    {
     "data": {
      "text/plain": [
       "2031"
      ]
     },
     "execution_count": 5,
     "metadata": {},
     "output_type": "execute_result"
    }
   ],
   "source": [
    "pill_list.__len__()"
   ]
  },
  {
   "cell_type": "code",
   "execution_count": 6,
   "metadata": {},
   "outputs": [],
   "source": [
    "df_url = pd.DataFrame(columns=['이름', 'rating', 'url'])\n",
    "df_url_idx = 0"
   ]
  },
  {
   "cell_type": "code",
   "execution_count": 7,
   "metadata": {},
   "outputs": [],
   "source": [
    "url = f'https://terms.naver.com/medicineSearch.naver?mode=nameSearch&query=' #{}&page=1"
   ]
  },
  {
   "cell_type": "code",
   "execution_count": 8,
   "metadata": {},
   "outputs": [],
   "source": [
    "browser = webdriver.Chrome(service=Service(ChromeDriverManager().install()))"
   ]
  },
  {
   "cell_type": "code",
   "execution_count": 9,
   "metadata": {},
   "outputs": [],
   "source": [
    "for pill in pill_list[:]:\n",
    "    page = 1\n",
    "    while True:\n",
    "        browser.get(url + pill + '&page=' + str(page))\n",
    "        time.sleep(1.5) # 인터넷 상태에 따라서 조정하여 사용. 너무 짧을 경우 rating이 수집되지 않는 경우가 있음.\n",
    "        # browser.implicitly_wait(1.5)\n",
    "        browser.execute_script(\"window.scrollTo(0, document.documentElement.scrollHeight);\")\n",
    "\n",
    "        for i in range(1, 10+1):\n",
    "            try:\n",
    "                pill_rating = frist_rating(browser, i) \n",
    "            except:\n",
    "                break\n",
    "\n",
    "            pill_name = frist_name(browser, i)\n",
    "            if pill_name in df_url['이름']: continue\n",
    "\n",
    "            pill_url = frist_url(browser, i)\n",
    "\n",
    "\n",
    "            df_url.loc[df_url_idx] = [pill_name, pill_rating, pill_url]\n",
    "            # print([pill_name, pill_rating, pill_url])\n",
    "            df_url_idx += 1\n",
    "            \n",
    "        page += 1\n",
    "\n",
    "        if page_check: break\n"
   ]
  },
  {
   "cell_type": "code",
   "execution_count": 23,
   "metadata": {},
   "outputs": [],
   "source": [
    "df_url['rating'] = df_url['rating'].apply(lambda x: 0 if x == '공감' else x)\n",
    "df_url.to_csv('url_df.csv', encoding='utf-8-sig', index=False)\n",
    "df_url['rating'] = df_url['rating'].astype(int)"
   ]
  },
  {
   "cell_type": "code",
   "execution_count": 24,
   "metadata": {},
   "outputs": [
    {
     "data": {
      "text/html": [
       "<div>\n",
       "<style scoped>\n",
       "    .dataframe tbody tr th:only-of-type {\n",
       "        vertical-align: middle;\n",
       "    }\n",
       "\n",
       "    .dataframe tbody tr th {\n",
       "        vertical-align: top;\n",
       "    }\n",
       "\n",
       "    .dataframe thead th {\n",
       "        text-align: right;\n",
       "    }\n",
       "</style>\n",
       "<table border=\"1\" class=\"dataframe\">\n",
       "  <thead>\n",
       "    <tr style=\"text-align: right;\">\n",
       "      <th></th>\n",
       "      <th>이름</th>\n",
       "      <th>rating</th>\n",
       "      <th>url</th>\n",
       "    </tr>\n",
       "  </thead>\n",
       "  <tbody>\n",
       "    <tr>\n",
       "      <th>0</th>\n",
       "      <td>뉴본정50단위(칼리디노게나제) [Newborn Tab. 50unit]</td>\n",
       "      <td>27</td>\n",
       "      <td>https://terms.naver.com/entry.naver?docId=2135...</td>\n",
       "    </tr>\n",
       "    <tr>\n",
       "      <th>1</th>\n",
       "      <td>크레인정50단위(칼리디노게나제) [Krein Tab.]</td>\n",
       "      <td>29</td>\n",
       "      <td>https://terms.naver.com/entry.naver?docId=2141...</td>\n",
       "    </tr>\n",
       "    <tr>\n",
       "      <th>2</th>\n",
       "      <td>카레인정50단위(칼리디노게나제) [Kalein Tab. 50IU]</td>\n",
       "      <td>14</td>\n",
       "      <td>https://terms.naver.com/entry.naver?docId=2164...</td>\n",
       "    </tr>\n",
       "    <tr>\n",
       "      <th>3</th>\n",
       "      <td>튜비스투정150/300mg [TUBES2 Tablet 150/300mg]</td>\n",
       "      <td>10</td>\n",
       "      <td>https://terms.naver.com/entry.naver?docId=2164...</td>\n",
       "    </tr>\n",
       "    <tr>\n",
       "      <th>4</th>\n",
       "      <td>튜비스정 [TUBES Tablet]</td>\n",
       "      <td>8</td>\n",
       "      <td>https://terms.naver.com/entry.naver?docId=2128...</td>\n",
       "    </tr>\n",
       "    <tr>\n",
       "      <th>...</th>\n",
       "      <td>...</td>\n",
       "      <td>...</td>\n",
       "      <td>...</td>\n",
       "    </tr>\n",
       "    <tr>\n",
       "      <th>562</th>\n",
       "      <td>콜락연질캡슐 [Collag soft cap.]</td>\n",
       "      <td>12</td>\n",
       "      <td>https://terms.naver.com/entry.naver?docId=2131...</td>\n",
       "    </tr>\n",
       "    <tr>\n",
       "      <th>563</th>\n",
       "      <td>젠빅연질캡슐 [Genbig Soft Cap.]</td>\n",
       "      <td>13</td>\n",
       "      <td>https://terms.naver.com/entry.naver?docId=2155...</td>\n",
       "    </tr>\n",
       "    <tr>\n",
       "      <th>564</th>\n",
       "      <td>쎄투연질캡슐 [Cettu Soft Capsule]</td>\n",
       "      <td>16</td>\n",
       "      <td>https://terms.naver.com/entry.naver?docId=2134...</td>\n",
       "    </tr>\n",
       "    <tr>\n",
       "      <th>565</th>\n",
       "      <td>레비아정(날트렉손염산염) [Revia Tab. (Naltrexone Hcl)]</td>\n",
       "      <td>13</td>\n",
       "      <td>https://terms.naver.com/entry.naver?docId=2141...</td>\n",
       "    </tr>\n",
       "    <tr>\n",
       "      <th>566</th>\n",
       "      <td>트락손정50mg(날트렉손염산염)(수출명:노텍손정(날트렉... [Traxone Tab...</td>\n",
       "      <td>8</td>\n",
       "      <td>https://terms.naver.com/entry.naver?docId=2158...</td>\n",
       "    </tr>\n",
       "  </tbody>\n",
       "</table>\n",
       "<p>567 rows × 3 columns</p>\n",
       "</div>"
      ],
      "text/plain": [
       "                                                    이름  rating  \\\n",
       "0               뉴본정50단위(칼리디노게나제) [Newborn Tab. 50unit]      27   \n",
       "1                       크레인정50단위(칼리디노게나제) [Krein Tab.]      29   \n",
       "2                 카레인정50단위(칼리디노게나제) [Kalein Tab. 50IU]      14   \n",
       "3             튜비스투정150/300mg [TUBES2 Tablet 150/300mg]      10   \n",
       "4                                  튜비스정 [TUBES Tablet]       8   \n",
       "..                                                 ...     ...   \n",
       "562                          콜락연질캡슐 [Collag soft cap.]      12   \n",
       "563                          젠빅연질캡슐 [Genbig Soft Cap.]      13   \n",
       "564                        쎄투연질캡슐 [Cettu Soft Capsule]      16   \n",
       "565        레비아정(날트렉손염산염) [Revia Tab. (Naltrexone Hcl)]      13   \n",
       "566  트락손정50mg(날트렉손염산염)(수출명:노텍손정(날트렉... [Traxone Tab...       8   \n",
       "\n",
       "                                                   url  \n",
       "0    https://terms.naver.com/entry.naver?docId=2135...  \n",
       "1    https://terms.naver.com/entry.naver?docId=2141...  \n",
       "2    https://terms.naver.com/entry.naver?docId=2164...  \n",
       "3    https://terms.naver.com/entry.naver?docId=2164...  \n",
       "4    https://terms.naver.com/entry.naver?docId=2128...  \n",
       "..                                                 ...  \n",
       "562  https://terms.naver.com/entry.naver?docId=2131...  \n",
       "563  https://terms.naver.com/entry.naver?docId=2155...  \n",
       "564  https://terms.naver.com/entry.naver?docId=2134...  \n",
       "565  https://terms.naver.com/entry.naver?docId=2141...  \n",
       "566  https://terms.naver.com/entry.naver?docId=2158...  \n",
       "\n",
       "[567 rows x 3 columns]"
      ]
     },
     "execution_count": 24,
     "metadata": {},
     "output_type": "execute_result"
    }
   ],
   "source": [
    "target_url = df_url[(df_url['rating']>=5)].reset_index(drop=True)\n",
    "target_url"
   ]
  },
  {
   "cell_type": "code",
   "execution_count": 25,
   "metadata": {},
   "outputs": [],
   "source": [
    "final_df = pd.DataFrame(columns=[\"이름\", \"성분정보\", \"효능효과\", \"용법용량\", \"저장방법\", \"사용기간\", \"사용상주의사항\", 'url'])\n",
    "final_df_idx = 0"
   ]
  },
  {
   "cell_type": "code",
   "execution_count": 26,
   "metadata": {},
   "outputs": [
    {
     "name": "stdout",
     "output_type": "stream",
     "text": [
      "https://terms.naver.com/entry.naver?docId=2128400&cid=51000&categoryId=51000\n",
      "https://terms.naver.com/entry.naver?docId=2128400&cid=51000&categoryId=51000\n"
     ]
    }
   ],
   "source": [
    "for i in range(len(target_url)):\n",
    "    res = requests.get(target_url.iloc[i,2])\n",
    "    res.raise_for_status()                \n",
    "    soup = BeautifulSoup(res.text, \"lxml\")\n",
    "    temp = soup.find_all('p', {'class': 'txt'})\n",
    "    temp = list(temp)\n",
    "\n",
    "    try:\n",
    "        final_df.loc[final_df_idx] = [target_url.iloc[i,0], \n",
    "                                    temp[0], \n",
    "                                    temp[1],\n",
    "                                    temp[2],\n",
    "                                    temp[3],\n",
    "                                    temp[4],\n",
    "                                    temp[5],\n",
    "                                    target_url.iloc[i,2]]\n",
    "        final_df_idx += 1\n",
    "    except:\n",
    "        final_df.loc[final_df_idx] = [target_url.iloc[i,0], \n",
    "                                    \"Nan\",\n",
    "                                    temp[0], \n",
    "                                    temp[1],\n",
    "                                    temp[2],\n",
    "                                    temp[3],\n",
    "                                    temp[4],\n",
    "                                    # temp[5],\n",
    "                                    target_url.iloc[i,2]]\n",
    "        final_df_idx += 1\n",
    "        print(target_url.iloc[i,2])"
   ]
  },
  {
   "cell_type": "code",
   "execution_count": null,
   "metadata": {},
   "outputs": [],
   "source": [
    "def pre_word(x):\n",
    "    return str(x).replace('<p class=\"txt\">',\"\").replace('<b>',\"\").replace('</b>',\"\").replace(\"</p>\",\"\").rstrip().replace(\"<br/>\",\"\\n\").replace(\"&gt;\",\">\").replace(\"&lt;\",\"<\")\n",
    "\n",
    "for c in final_df.columns.tolist():\n",
    "    final_df[c] = final_df[c].apply(lambda x: pre_word(x).lstrip().rstrip())"
   ]
  },
  {
   "cell_type": "code",
   "execution_count": null,
   "metadata": {},
   "outputs": [],
   "source": [
    "final_df.to_csv('final_df.csv', index=False, encoding='utf-8-sig')"
   ]
  },
  {
   "cell_type": "code",
   "execution_count": null,
   "metadata": {},
   "outputs": [],
   "source": []
  }
 ],
 "metadata": {
  "kernelspec": {
   "display_name": "Python 3",
   "language": "python",
   "name": "python3"
  },
  "language_info": {
   "codemirror_mode": {
    "name": "ipython",
    "version": 3
   },
   "file_extension": ".py",
   "mimetype": "text/x-python",
   "name": "python",
   "nbconvert_exporter": "python",
   "pygments_lexer": "ipython3",
   "version": "3.11.5"
  },
  "orig_nbformat": 4
 },
 "nbformat": 4,
 "nbformat_minor": 2
}
